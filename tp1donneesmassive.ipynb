{
  "nbformat": 4,
  "nbformat_minor": 0,
  "metadata": {
    "colab": {
      "name": "tp1donneesmassive.ipynb",
      "provenance": [],
      "authorship_tag": "ABX9TyPN8/JhCVXmi2y56FUcthjU",
      "include_colab_link": true
    },
    "kernelspec": {
      "name": "python3",
      "display_name": "Python 3"
    },
    "language_info": {
      "name": "python"
    }
  },
  "cells": [
    {
      "cell_type": "markdown",
      "metadata": {
        "id": "view-in-github",
        "colab_type": "text"
      },
      "source": [
        "<a href=\"https://colab.research.google.com/github/seydina08/AvenueImmo/blob/main/tp1donneesmassive.ipynb\" target=\"_parent\"><img src=\"https://colab.research.google.com/assets/colab-badge.svg\" alt=\"Open In Colab\"/></a>"
      ]
    },
    {
      "cell_type": "markdown",
      "source": [
        "# Les étiquettes de données, les tailles et les couleurs sont définies:\n",
        "labels = 'Broccoli', 'Chocolate Cake', 'Blueberries', 'Raspberries'\n",
        "sizes = [30, 330, 245, 210]\n",
        "colors = ['green', 'brown', 'blue', 'red']\n",
        "# Les données sont tracées:\n",
        "plt.pie(sizes, labels=labels, colors=colors)\n",
        "plt.pie(sizes, labels=labels, colors=colors)\n",
        "plt.title(“Pie Plot”)\n",
        "plt.show()\n"
      ],
      "metadata": {
        "id": "lqzDLcSBBJ8x"
      }
    },
    {
      "cell_type": "code",
      "source": [
        "# Les étiquettes de données, les tailles et les couleurs sont définies:\n",
        "labels = 'Broccoli', 'Chocolate Cake', 'Blueberries', 'Raspberries'\n",
        "sizes = [30, 330, 245, 210]\n",
        "colors = ['green', 'brown', 'blue', 'red']\n",
        "# Les données sont tracées:\n",
        "plt.pie(sizes, labels=labels, colors=colors)\n",
        "plt.pie(sizes, labels=labels, colors=colors)\n",
        "plt.title('Pie Plot')\n",
        "plt.show()\n"
      ],
      "metadata": {
        "colab": {
          "base_uri": "https://localhost:8080/",
          "height": 264
        },
        "id": "P7_KrxkdBY2h",
        "outputId": "5a33b064-0db8-4211-cba6-020aaa48846c"
      },
      "execution_count": 11,
      "outputs": [
        {
          "output_type": "display_data",
          "data": {
            "text/plain": [
              "<Figure size 432x288 with 1 Axes>"
            ],
            "image/png": "[encoded data removed]"
          },
          "metadata": {}
        }
      ]
    },
    {
      "cell_type": "code",
      "execution_count": 4,
      "metadata": {
        "colab": {
          "base_uri": "https://localhost:8080/",
          "height": 317
        },
        "id": "WhJW0ZqX2WFU",
        "outputId": "93cbdac9-94ee-4ad6-e043-c8e4d8ff0eb7"
      },
      "outputs": [
        {
          "output_type": "stream",
          "name": "stdout",
          "text": [
            "[0, 1, 2, 3, 4, 5, 6, 7, 8, 9, 10, 11, 12, 13, 14, 15, 16, 17, 18, 19]\n",
            "[0, 3, 6, 9, 12, 15, 18, 21, 24, 27, 30, 33, 36, 39, 42, 45, 48, 51, 54, 57]\n"
          ]
        },
        {
          "output_type": "execute_result",
          "data": {
            "text/plain": [
              "<matplotlib.collections.PathCollection at 0x7fb8aae5d750>"
            ]
          },
          "metadata": {},
          "execution_count": 4
        },
        {
          "output_type": "display_data",
          "data": {
            "text/plain": [
              "<Figure size 432x288 with 1 Axes>"
            ],
            "image/png": "[encoded data removed]"
          },
          "metadata": {
            "needs_background": "light"
          }
        }
      ],
      "source": [
        "import matplotlib.pyplot as plt\n",
        "# Tracer un graphique avec matplotlib\n",
        "x = [i for i in range(20)]\n",
        "print(x)\n",
        "y = [3*i for i in range(20)]\n",
        "print(y)\n",
        "plt.plot(x, y)\n",
        "plt.scatter(x,y)"
      ]
    }
  ]
}